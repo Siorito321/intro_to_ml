{
 "cells": [
  {
   "cell_type": "code",
   "execution_count": 209,
   "id": "a323d485",
   "metadata": {},
   "outputs": [],
   "source": [
    "import numpy as np"
   ]
  },
  {
   "cell_type": "markdown",
   "id": "5ad1037f",
   "metadata": {},
   "source": [
    "## 1. DataTypes & Attributes"
   ]
  },
  {
   "cell_type": "code",
   "execution_count": 34,
   "id": "fcd7701a",
   "metadata": {},
   "outputs": [
    {
     "data": {
      "text/plain": [
       "array([1, 2, 3])"
      ]
     },
     "execution_count": 34,
     "metadata": {},
     "output_type": "execute_result"
    }
   ],
   "source": [
    "# NumPy main datatype is ndarray (n-dimensional-array)\n",
    "a1 = np.array([1, 2, 3])\n",
    "a1"
   ]
  },
  {
   "cell_type": "code",
   "execution_count": 35,
   "id": "9b6049ca",
   "metadata": {},
   "outputs": [
    {
     "data": {
      "text/plain": [
       "numpy.ndarray"
      ]
     },
     "execution_count": 35,
     "metadata": {},
     "output_type": "execute_result"
    }
   ],
   "source": [
    "type(a1)"
   ]
  },
  {
   "cell_type": "code",
   "execution_count": 210,
   "id": "e0e4b928",
   "metadata": {},
   "outputs": [],
   "source": [
    "a2 = np.array([[1., 2.0, 3.], \n",
    "               [4.5, 5.2, 6.5]])\n",
    "a3 = np.array([[[1, 2, 3], \n",
    "              [4, 5, 6],\n",
    "              [7, 8, 9]],\n",
    "             [[12, 11, 13], \n",
    "             [13, 14, 15],\n",
    "             [16, 17, 18]]])"
   ]
  },
  {
   "cell_type": "code",
   "execution_count": null,
   "id": "97da74ba",
   "metadata": {},
   "outputs": [],
   "source": [
    "a2"
   ]
  },
  {
   "cell_type": "code",
   "execution_count": null,
   "id": "95ec01da",
   "metadata": {},
   "outputs": [],
   "source": [
    "a3"
   ]
  },
  {
   "cell_type": "code",
   "execution_count": null,
   "id": "ff760594",
   "metadata": {},
   "outputs": [],
   "source": [
    "#returns a tuple representing the dimensions of the NumPy array\n",
    "a1.shape"
   ]
  },
  {
   "cell_type": "code",
   "execution_count": 40,
   "id": "d58a93f2",
   "metadata": {},
   "outputs": [
    {
     "data": {
      "text/plain": [
       "(2, 3)"
      ]
     },
     "execution_count": 40,
     "metadata": {},
     "output_type": "execute_result"
    }
   ],
   "source": [
    "a2.shape"
   ]
  },
  {
   "cell_type": "code",
   "execution_count": 41,
   "id": "63d8a0bc",
   "metadata": {},
   "outputs": [
    {
     "data": {
      "text/plain": [
       "(2, 3, 3)"
      ]
     },
     "execution_count": 41,
     "metadata": {},
     "output_type": "execute_result"
    }
   ],
   "source": [
    "a3.shape"
   ]
  },
  {
   "cell_type": "code",
   "execution_count": 42,
   "id": "cb6ccef3",
   "metadata": {},
   "outputs": [
    {
     "data": {
      "text/plain": [
       "(1, 2, 3)"
      ]
     },
     "execution_count": 42,
     "metadata": {},
     "output_type": "execute_result"
    }
   ],
   "source": [
    "#shows number of dimension inside ndarray\n",
    "a1.ndim, a2.ndim, a3.ndim #(thisa is just a way to represent multiple variables in jpnb)"
   ]
  },
  {
   "cell_type": "code",
   "execution_count": 43,
   "id": "72d75756",
   "metadata": {},
   "outputs": [
    {
     "data": {
      "text/plain": [
       "array([[1. , 2. , 3. ],\n",
       "       [4.5, 5.2, 6.5]])"
      ]
     },
     "execution_count": 43,
     "metadata": {},
     "output_type": "execute_result"
    }
   ],
   "source": [
    "a2"
   ]
  },
  {
   "cell_type": "code",
   "execution_count": 44,
   "id": "086029f1",
   "metadata": {},
   "outputs": [
    {
     "data": {
      "text/plain": [
       "array([[[ 1,  2,  3],\n",
       "        [ 4,  5,  6],\n",
       "        [ 7,  8,  9]],\n",
       "\n",
       "       [[12, 11, 13],\n",
       "        [13, 14, 15],\n",
       "        [16, 17, 18]]])"
      ]
     },
     "execution_count": 44,
     "metadata": {},
     "output_type": "execute_result"
    }
   ],
   "source": [
    "a3"
   ]
  },
  {
   "cell_type": "code",
   "execution_count": 45,
   "id": "87c8d70e",
   "metadata": {},
   "outputs": [
    {
     "data": {
      "text/plain": [
       "(dtype('int32'), dtype('float64'), dtype('int32'))"
      ]
     },
     "execution_count": 45,
     "metadata": {},
     "output_type": "execute_result"
    }
   ],
   "source": [
    "#shows datatypes of array inides \n",
    "a1.dtype, a2.dtype, a3.dtype"
   ]
  },
  {
   "cell_type": "markdown",
   "id": "a1dd1801",
   "metadata": {},
   "source": [
    " numbers inside array can only be one data type so it convert less persise data to more persise data if needed"
   ]
  },
  {
   "cell_type": "code",
   "execution_count": 46,
   "id": "7b4e61cd",
   "metadata": {},
   "outputs": [
    {
     "data": {
      "text/plain": [
       "(3, 6, 18)"
      ]
     },
     "execution_count": 46,
     "metadata": {},
     "output_type": "execute_result"
    }
   ],
   "source": [
    "#size attribute showds number of elements inside arary\n",
    "a1.size, a2.size, a3.size"
   ]
  },
  {
   "cell_type": "code",
   "execution_count": 47,
   "id": "5c2f64fd",
   "metadata": {},
   "outputs": [
    {
     "data": {
      "text/plain": [
       "(numpy.ndarray, numpy.ndarray, numpy.ndarray)"
      ]
     },
     "execution_count": 47,
     "metadata": {},
     "output_type": "execute_result"
    }
   ],
   "source": [
    "type(a1), type(a2), type(a3)   "
   ]
  },
  {
   "cell_type": "code",
   "execution_count": 48,
   "id": "fb96bebc",
   "metadata": {},
   "outputs": [
    {
     "data": {
      "text/html": [
       "<div>\n",
       "<style scoped>\n",
       "    .dataframe tbody tr th:only-of-type {\n",
       "        vertical-align: middle;\n",
       "    }\n",
       "\n",
       "    .dataframe tbody tr th {\n",
       "        vertical-align: top;\n",
       "    }\n",
       "\n",
       "    .dataframe thead th {\n",
       "        text-align: right;\n",
       "    }\n",
       "</style>\n",
       "<table border=\"1\" class=\"dataframe\">\n",
       "  <thead>\n",
       "    <tr style=\"text-align: right;\">\n",
       "      <th></th>\n",
       "      <th>0</th>\n",
       "      <th>1</th>\n",
       "      <th>2</th>\n",
       "    </tr>\n",
       "  </thead>\n",
       "  <tbody>\n",
       "    <tr>\n",
       "      <th>0</th>\n",
       "      <td>1.0</td>\n",
       "      <td>2.0</td>\n",
       "      <td>3.0</td>\n",
       "    </tr>\n",
       "    <tr>\n",
       "      <th>1</th>\n",
       "      <td>4.5</td>\n",
       "      <td>5.2</td>\n",
       "      <td>6.5</td>\n",
       "    </tr>\n",
       "  </tbody>\n",
       "</table>\n",
       "</div>"
      ],
      "text/plain": [
       "     0    1    2\n",
       "0  1.0  2.0  3.0\n",
       "1  4.5  5.2  6.5"
      ]
     },
     "execution_count": 48,
     "metadata": {},
     "output_type": "execute_result"
    }
   ],
   "source": [
    "# create a DataFrame from np array\n",
    "import pandas as pd\n",
    "df = pd.DataFrame(a2)\n",
    "df"
   ]
  },
  {
   "cell_type": "markdown",
   "id": "2b7dd3f7",
   "metadata": {},
   "source": [
    "## 2. NumPy arrays creation"
   ]
  },
  {
   "cell_type": "code",
   "execution_count": 49,
   "id": "9d5e9a0e",
   "metadata": {},
   "outputs": [
    {
     "data": {
      "text/plain": [
       "array([1, 2, 3])"
      ]
     },
     "execution_count": 49,
     "metadata": {},
     "output_type": "execute_result"
    }
   ],
   "source": [
    "sample_array = np.array([1,2,3])\n",
    "sample_array"
   ]
  },
  {
   "cell_type": "code",
   "execution_count": 50,
   "id": "66d7212b",
   "metadata": {},
   "outputs": [
    {
     "data": {
      "text/plain": [
       "dtype('int32')"
      ]
     },
     "execution_count": 50,
     "metadata": {},
     "output_type": "execute_result"
    }
   ],
   "source": [
    "sample_array.dtype"
   ]
  },
  {
   "cell_type": "code",
   "execution_count": 51,
   "id": "c783406a",
   "metadata": {},
   "outputs": [
    {
     "data": {
      "text/plain": [
       "array([[1, 1, 1],\n",
       "       [1, 1, 1]])"
      ]
     },
     "execution_count": 51,
     "metadata": {},
     "output_type": "execute_result"
    }
   ],
   "source": [
    "ones = np.ones((2,3), dtype=int)\n",
    "ones"
   ]
  },
  {
   "cell_type": "code",
   "execution_count": 52,
   "id": "1030cff0",
   "metadata": {},
   "outputs": [
    {
     "data": {
      "text/plain": [
       "numpy.ndarray"
      ]
     },
     "execution_count": 52,
     "metadata": {},
     "output_type": "execute_result"
    }
   ],
   "source": [
    "type(ones)"
   ]
  },
  {
   "cell_type": "code",
   "execution_count": 53,
   "id": "53c94b99",
   "metadata": {},
   "outputs": [],
   "source": [
    "zeroes = np.zeros((3,3), dtype=None)"
   ]
  },
  {
   "cell_type": "code",
   "execution_count": 54,
   "id": "097f4eb9",
   "metadata": {},
   "outputs": [
    {
     "data": {
      "text/plain": [
       "array([0, 2, 4, 6, 8])"
      ]
     },
     "execution_count": 54,
     "metadata": {},
     "output_type": "execute_result"
    }
   ],
   "source": [
    "range_array = np.arange(0, 10, 2)\n",
    "range_array"
   ]
  },
  {
   "cell_type": "code",
   "execution_count": 55,
   "id": "70f6647b",
   "metadata": {},
   "outputs": [
    {
     "data": {
      "text/plain": [
       "array([[6, 6, 2, 2, 6],\n",
       "       [5, 2, 6, 4, 7],\n",
       "       [5, 7, 6, 2, 8]])"
      ]
     },
     "execution_count": 55,
     "metadata": {},
     "output_type": "execute_result"
    }
   ],
   "source": [
    "random_array = np.random.randint(0, 10, size=(3,5))\n",
    "random_array"
   ]
  },
  {
   "cell_type": "code",
   "execution_count": 56,
   "id": "10045b2b",
   "metadata": {},
   "outputs": [
    {
     "data": {
      "text/plain": [
       "15"
      ]
     },
     "execution_count": 56,
     "metadata": {},
     "output_type": "execute_result"
    }
   ],
   "source": [
    "random_array.size"
   ]
  },
  {
   "cell_type": "code",
   "execution_count": 57,
   "id": "5714a927",
   "metadata": {},
   "outputs": [
    {
     "data": {
      "text/plain": [
       "(3, 5)"
      ]
     },
     "execution_count": 57,
     "metadata": {},
     "output_type": "execute_result"
    }
   ],
   "source": [
    "random_array.shape"
   ]
  },
  {
   "cell_type": "code",
   "execution_count": 58,
   "id": "130e61f3",
   "metadata": {},
   "outputs": [
    {
     "data": {
      "text/plain": [
       "array([[0.6527425 , 0.91944732, 0.42056391],\n",
       "       [0.94079901, 0.98509282, 0.30773508],\n",
       "       [0.79110307, 0.30305013, 0.90217559],\n",
       "       [0.91226804, 0.52600596, 0.62571042],\n",
       "       [0.21741865, 0.486079  , 0.33389291]])"
      ]
     },
     "execution_count": 58,
     "metadata": {},
     "output_type": "execute_result"
    }
   ],
   "source": [
    "random_array_2 = np.random.random((5, 3))\n",
    "random_array_2"
   ]
  },
  {
   "cell_type": "code",
   "execution_count": 59,
   "id": "ef6b420d",
   "metadata": {},
   "outputs": [
    {
     "data": {
      "text/plain": [
       "(5, 3)"
      ]
     },
     "execution_count": 59,
     "metadata": {},
     "output_type": "execute_result"
    }
   ],
   "source": [
    "random_array_2.shape"
   ]
  },
  {
   "cell_type": "code",
   "execution_count": 60,
   "id": "9778094b",
   "metadata": {},
   "outputs": [
    {
     "data": {
      "text/plain": [
       "array([[0.99482817, 0.25841371, 0.69311837],\n",
       "       [0.55399629, 0.26916601, 0.43762998],\n",
       "       [0.38421849, 0.81713471, 0.03063401],\n",
       "       [0.6511429 , 0.97389777, 0.65444163],\n",
       "       [0.50528967, 0.75284196, 0.12953661]])"
      ]
     },
     "execution_count": 60,
     "metadata": {},
     "output_type": "execute_result"
    }
   ],
   "source": [
    "random_array_3 = np.random.rand(5, 3)\n",
    "random_array_3"
   ]
  },
  {
   "cell_type": "code",
   "execution_count": 61,
   "id": "94ff8768",
   "metadata": {},
   "outputs": [
    {
     "data": {
      "text/plain": [
       "array([[[0.87246569, 0.27672564, 0.74985895, 0.09242456],\n",
       "        [0.23579503, 0.93632137, 0.37099717, 0.87436467],\n",
       "        [0.79296615, 0.9487921 , 0.53910488, 0.42388046],\n",
       "        [0.98837415, 0.34957738, 0.55483862, 0.53001959]],\n",
       "\n",
       "       [[0.70633284, 0.4068428 , 0.78582913, 0.87752375],\n",
       "        [0.10134675, 0.92780548, 0.89341916, 0.87296197],\n",
       "        [0.83622417, 0.99177727, 0.60025989, 0.13270788],\n",
       "        [0.53497078, 0.95970246, 0.41716416, 0.64776174]],\n",
       "\n",
       "       [[0.66288887, 0.87954629, 0.33712632, 0.84424502],\n",
       "        [0.11787354, 0.50389813, 0.85091099, 0.40666651],\n",
       "        [0.52350487, 0.06889896, 0.62681508, 0.58161161],\n",
       "        [0.97394718, 0.99951605, 0.61270495, 0.02676803]]])"
      ]
     },
     "execution_count": 61,
     "metadata": {},
     "output_type": "execute_result"
    }
   ],
   "source": [
    "rand_arr = np.random.rand(3, 4, 4)\n",
    "rand_arr"
   ]
  },
  {
   "cell_type": "code",
   "execution_count": 62,
   "id": "68f56c03",
   "metadata": {},
   "outputs": [
    {
     "data": {
      "text/plain": [
       "array([[0.452552  , 0.78828253, 0.90488479, 0.74546708],\n",
       "       [0.49791796, 0.22911175, 0.11107789, 0.19971523],\n",
       "       [0.10441748, 0.30634045, 0.43266583, 0.59513527]])"
      ]
     },
     "execution_count": 62,
     "metadata": {},
     "output_type": "execute_result"
    }
   ],
   "source": [
    "rand_arr2 = np.random.random((3,4))\n",
    "rand_arr2"
   ]
  },
  {
   "cell_type": "code",
   "execution_count": 71,
   "id": "56d8cc9c",
   "metadata": {},
   "outputs": [
    {
     "data": {
      "text/plain": [
       "array([[5, 0, 3],\n",
       "       [3, 7, 9],\n",
       "       [3, 5, 2],\n",
       "       [4, 7, 6]])"
      ]
     },
     "execution_count": 71,
     "metadata": {},
     "output_type": "execute_result"
    }
   ],
   "source": [
    "#pseudo random numbers\n",
    "np.random.seed(seed=0)\n",
    "random_array_4 = np.random.randint(0, 10, (4, 3))\n",
    "random_array_4"
   ]
  },
  {
   "cell_type": "code",
   "execution_count": 68,
   "id": "6bc64267",
   "metadata": {},
   "outputs": [
    {
     "data": {
      "text/plain": [
       "(4, 3)"
      ]
     },
     "execution_count": 68,
     "metadata": {},
     "output_type": "execute_result"
    }
   ],
   "source": [
    "random_array_4.shape"
   ]
  },
  {
   "cell_type": "code",
   "execution_count": 98,
   "id": "287dc8b4",
   "metadata": {},
   "outputs": [
    {
     "data": {
      "text/plain": [
       "array([[0.07630829, 0.77991879, 0.43840923],\n",
       "       [0.72346518, 0.97798951, 0.53849587],\n",
       "       [0.50112046, 0.07205113, 0.26843898],\n",
       "       [0.4998825 , 0.67923   , 0.80373904],\n",
       "       [0.38094113, 0.06593635, 0.2881456 ]])"
      ]
     },
     "execution_count": 98,
     "metadata": {},
     "output_type": "execute_result"
    }
   ],
   "source": [
    "np.random.seed(seed=7)\n",
    "random_array_5 = np.random.rand(5,3)\n",
    "random_array_5"
   ]
  },
  {
   "cell_type": "code",
   "execution_count": 112,
   "id": "4bc1177b",
   "metadata": {},
   "outputs": [
    {
     "data": {
      "text/plain": [
       "array([[0.02319037, 0.52471984, 0.6966959 ],\n",
       "       [0.42705349, 0.13457046, 0.33135721],\n",
       "       [0.59034585, 0.94066139, 0.99255772],\n",
       "       [0.24160292, 0.01057991, 0.83064033],\n",
       "       [0.92661294, 0.45860348, 0.77144234]])"
      ]
     },
     "execution_count": 112,
     "metadata": {},
     "output_type": "execute_result"
    }
   ],
   "source": [
    "random_array_5 = np.random.rand(5,3)\n",
    "random_array_5"
   ]
  },
  {
   "cell_type": "markdown",
   "id": "59f41ba9",
   "metadata": {},
   "source": [
    "## 3. Viewing arrays and matriced"
   ]
  },
  {
   "cell_type": "code",
   "execution_count": 113,
   "id": "639d8b9e",
   "metadata": {},
   "outputs": [
    {
     "data": {
      "text/plain": [
       "array([0, 2, 3, 4, 5, 6, 7, 9])"
      ]
     },
     "execution_count": 113,
     "metadata": {},
     "output_type": "execute_result"
    }
   ],
   "source": [
    "np.unique(random_array_4)"
   ]
  },
  {
   "cell_type": "code",
   "execution_count": 115,
   "id": "b26c572c",
   "metadata": {},
   "outputs": [
    {
     "data": {
      "text/plain": [
       "array([[[ 1,  2,  3],\n",
       "        [ 4,  5,  6],\n",
       "        [ 7,  8,  9]],\n",
       "\n",
       "       [[12, 11, 13],\n",
       "        [13, 14, 15],\n",
       "        [16, 17, 18]]])"
      ]
     },
     "execution_count": 115,
     "metadata": {},
     "output_type": "execute_result"
    }
   ],
   "source": [
    "a3"
   ]
  },
  {
   "cell_type": "code",
   "execution_count": 116,
   "id": "e57eaa31",
   "metadata": {},
   "outputs": [
    {
     "data": {
      "text/plain": [
       "1"
      ]
     },
     "execution_count": 116,
     "metadata": {},
     "output_type": "execute_result"
    }
   ],
   "source": [
    "a1[0]"
   ]
  },
  {
   "cell_type": "code",
   "execution_count": 117,
   "id": "db26d23d",
   "metadata": {},
   "outputs": [
    {
     "data": {
      "text/plain": [
       "array([1., 2., 3.])"
      ]
     },
     "execution_count": 117,
     "metadata": {},
     "output_type": "execute_result"
    }
   ],
   "source": [
    "a2[0]"
   ]
  },
  {
   "cell_type": "code",
   "execution_count": 121,
   "id": "835aad55",
   "metadata": {},
   "outputs": [
    {
     "data": {
      "text/plain": [
       "array([1, 2, 3])"
      ]
     },
     "execution_count": 121,
     "metadata": {},
     "output_type": "execute_result"
    }
   ],
   "source": [
    "a3[0][0]"
   ]
  },
  {
   "cell_type": "code",
   "execution_count": 122,
   "id": "2772573b",
   "metadata": {},
   "outputs": [
    {
     "data": {
      "text/plain": [
       "array([4.5, 5.2, 6.5])"
      ]
     },
     "execution_count": 122,
     "metadata": {},
     "output_type": "execute_result"
    }
   ],
   "source": [
    "a2[1]"
   ]
  },
  {
   "cell_type": "code",
   "execution_count": 123,
   "id": "f57a8847",
   "metadata": {},
   "outputs": [
    {
     "data": {
      "text/plain": [
       "array([[[ 1,  2],\n",
       "        [ 4,  5]],\n",
       "\n",
       "       [[12, 11],\n",
       "        [13, 14]]])"
      ]
     },
     "execution_count": 123,
     "metadata": {},
     "output_type": "execute_result"
    }
   ],
   "source": [
    "a3[:2, :2, :2]"
   ]
  },
  {
   "cell_type": "code",
   "execution_count": 124,
   "id": "a38e6144",
   "metadata": {},
   "outputs": [
    {
     "data": {
      "text/plain": [
       "array([[[[2, 0, 3, 9, 8],\n",
       "         [3, 7, 1, 0, 1],\n",
       "         [4, 6, 1, 0, 1],\n",
       "         [0, 1, 8, 4, 1]],\n",
       "\n",
       "        [[6, 8, 5, 2, 4],\n",
       "         [7, 4, 1, 2, 8],\n",
       "         [5, 2, 9, 6, 2],\n",
       "         [5, 7, 7, 5, 5]],\n",
       "\n",
       "        [[6, 0, 6, 4, 6],\n",
       "         [2, 6, 8, 7, 0],\n",
       "         [5, 8, 9, 7, 7],\n",
       "         [6, 2, 5, 6, 1]]],\n",
       "\n",
       "\n",
       "       [[[9, 3, 4, 0, 3],\n",
       "         [5, 6, 4, 0, 4],\n",
       "         [1, 5, 2, 4, 8],\n",
       "         [7, 5, 7, 5, 3]],\n",
       "\n",
       "        [[7, 6, 2, 3, 1],\n",
       "         [1, 8, 4, 2, 1],\n",
       "         [7, 0, 8, 8, 1],\n",
       "         [2, 3, 0, 1, 1]],\n",
       "\n",
       "        [[5, 5, 6, 0, 9],\n",
       "         [3, 2, 4, 2, 8],\n",
       "         [4, 9, 0, 0, 2],\n",
       "         [6, 3, 9, 5, 4]]]])"
      ]
     },
     "execution_count": 124,
     "metadata": {},
     "output_type": "execute_result"
    }
   ],
   "source": [
    "a4 = np.random.randint(10, size=(2,3,4,5))\n",
    "a4"
   ]
  },
  {
   "cell_type": "code",
   "execution_count": 127,
   "id": "a7570d59",
   "metadata": {},
   "outputs": [
    {
     "data": {
      "text/plain": [
       "((2, 3, 4, 5), 4)"
      ]
     },
     "execution_count": 127,
     "metadata": {},
     "output_type": "execute_result"
    }
   ],
   "source": [
    "a4.shape, a4.ndim"
   ]
  },
  {
   "cell_type": "code",
   "execution_count": 130,
   "id": "0124343a",
   "metadata": {},
   "outputs": [
    {
     "data": {
      "text/plain": [
       "array([[[[2]]]])"
      ]
     },
     "execution_count": 130,
     "metadata": {},
     "output_type": "execute_result"
    }
   ],
   "source": [
    "a4[:1,:1,:1,:1]"
   ]
  },
  {
   "cell_type": "markdown",
   "id": "72f3d581",
   "metadata": {},
   "source": [
    "## 4.Manupulating and comparing arrays"
   ]
  },
  {
   "cell_type": "markdown",
   "id": "f43b7105",
   "metadata": {},
   "source": [
    "### arithmetic"
   ]
  },
  {
   "cell_type": "code",
   "execution_count": 132,
   "id": "50dbccd0",
   "metadata": {},
   "outputs": [
    {
     "data": {
      "text/plain": [
       "array([1, 2, 3])"
      ]
     },
     "execution_count": 132,
     "metadata": {},
     "output_type": "execute_result"
    }
   ],
   "source": [
    "a1"
   ]
  },
  {
   "cell_type": "code",
   "execution_count": 134,
   "id": "2c853daf",
   "metadata": {},
   "outputs": [
    {
     "data": {
      "text/plain": [
       "array([1., 1., 1.])"
      ]
     },
     "execution_count": 134,
     "metadata": {},
     "output_type": "execute_result"
    }
   ],
   "source": [
    "ones = np.ones(3)\n",
    "ones"
   ]
  },
  {
   "cell_type": "code",
   "execution_count": 135,
   "id": "b215bdac",
   "metadata": {},
   "outputs": [
    {
     "data": {
      "text/plain": [
       "array([2., 3., 4.])"
      ]
     },
     "execution_count": 135,
     "metadata": {},
     "output_type": "execute_result"
    }
   ],
   "source": [
    "a1 + ones"
   ]
  },
  {
   "cell_type": "code",
   "execution_count": 136,
   "id": "a2670f98",
   "metadata": {},
   "outputs": [
    {
     "data": {
      "text/plain": [
       "array([0., 1., 2.])"
      ]
     },
     "execution_count": 136,
     "metadata": {},
     "output_type": "execute_result"
    }
   ],
   "source": [
    "a1 - ones"
   ]
  },
  {
   "cell_type": "code",
   "execution_count": 137,
   "id": "edf53c22",
   "metadata": {},
   "outputs": [
    {
     "data": {
      "text/plain": [
       "array([1., 2., 3.])"
      ]
     },
     "execution_count": 137,
     "metadata": {},
     "output_type": "execute_result"
    }
   ],
   "source": [
    "a1 * ones"
   ]
  },
  {
   "cell_type": "code",
   "execution_count": 138,
   "id": "a24778fc",
   "metadata": {},
   "outputs": [
    {
     "data": {
      "text/plain": [
       "array([[1. , 2. , 3. ],\n",
       "       [4.5, 5.2, 6.5]])"
      ]
     },
     "execution_count": 138,
     "metadata": {},
     "output_type": "execute_result"
    }
   ],
   "source": [
    "a2"
   ]
  },
  {
   "cell_type": "code",
   "execution_count": 139,
   "id": "e4e737c3",
   "metadata": {},
   "outputs": [
    {
     "data": {
      "text/plain": [
       "array([[ 1. ,  4. ,  9. ],\n",
       "       [ 4.5, 10.4, 19.5]])"
      ]
     },
     "execution_count": 139,
     "metadata": {},
     "output_type": "execute_result"
    }
   ],
   "source": [
    "a1 * a2"
   ]
  },
  {
   "cell_type": "code",
   "execution_count": 141,
   "id": "2042cd92",
   "metadata": {},
   "outputs": [
    {
     "data": {
      "text/plain": [
       "array([[[ 1,  2,  3],\n",
       "        [ 4,  5,  6],\n",
       "        [ 7,  8,  9]],\n",
       "\n",
       "       [[12, 11, 13],\n",
       "        [13, 14, 15],\n",
       "        [16, 17, 18]]])"
      ]
     },
     "execution_count": 141,
     "metadata": {},
     "output_type": "execute_result"
    }
   ],
   "source": [
    "a3"
   ]
  },
  {
   "cell_type": "code",
   "execution_count": 144,
   "id": "a4675e62",
   "metadata": {},
   "outputs": [
    {
     "ename": "ValueError",
     "evalue": "operands could not be broadcast together with shapes (2,3,3) (2,3) ",
     "output_type": "error",
     "traceback": [
      "\u001b[1;31m---------------------------------------------------------------------------\u001b[0m",
      "\u001b[1;31mValueError\u001b[0m                                Traceback (most recent call last)",
      "Cell \u001b[1;32mIn[144], line 1\u001b[0m\n\u001b[1;32m----> 1\u001b[0m a3 \u001b[38;5;241m*\u001b[39m a2\n",
      "\u001b[1;31mValueError\u001b[0m: operands could not be broadcast together with shapes (2,3,3) (2,3) "
     ]
    }
   ],
   "source": [
    "a3 * a2"
   ]
  },
  {
   "cell_type": "code",
   "execution_count": 145,
   "id": "574005d2",
   "metadata": {},
   "outputs": [
    {
     "data": {
      "text/plain": [
       "array([1., 2., 3.])"
      ]
     },
     "execution_count": 145,
     "metadata": {},
     "output_type": "execute_result"
    }
   ],
   "source": [
    "a1 / ones"
   ]
  },
  {
   "cell_type": "code",
   "execution_count": 147,
   "id": "ce69b344",
   "metadata": {},
   "outputs": [
    {
     "data": {
      "text/plain": [
       "array([[1., 1., 1.],\n",
       "       [4., 2., 2.]])"
      ]
     },
     "execution_count": 147,
     "metadata": {},
     "output_type": "execute_result"
    }
   ],
   "source": [
    "# Floor division\n",
    "a2 // a1"
   ]
  },
  {
   "cell_type": "code",
   "execution_count": 151,
   "id": "0bafa8b1",
   "metadata": {},
   "outputs": [
    {
     "data": {
      "text/plain": [
       "array([[ 1.  ,  4.  ,  9.  ],\n",
       "       [20.25, 27.04, 42.25]])"
      ]
     },
     "execution_count": 151,
     "metadata": {},
     "output_type": "execute_result"
    }
   ],
   "source": [
    "a2 ** 2"
   ]
  },
  {
   "cell_type": "code",
   "execution_count": 152,
   "id": "85e39f0e",
   "metadata": {},
   "outputs": [
    {
     "data": {
      "text/plain": [
       "array([2., 3., 4.])"
      ]
     },
     "execution_count": 152,
     "metadata": {},
     "output_type": "execute_result"
    }
   ],
   "source": [
    "np.add(a1, ones)"
   ]
  },
  {
   "cell_type": "code",
   "execution_count": 153,
   "id": "2ba413cc",
   "metadata": {},
   "outputs": [
    {
     "data": {
      "text/plain": [
       "array([1, 0, 1], dtype=int32)"
      ]
     },
     "execution_count": 153,
     "metadata": {},
     "output_type": "execute_result"
    }
   ],
   "source": [
    "a1 % 2"
   ]
  },
  {
   "cell_type": "code",
   "execution_count": 154,
   "id": "be914cf1",
   "metadata": {},
   "outputs": [
    {
     "data": {
      "text/plain": [
       "array([[[1, 2, 0],\n",
       "        [1, 2, 0],\n",
       "        [1, 2, 0]],\n",
       "\n",
       "       [[0, 2, 1],\n",
       "        [1, 2, 0],\n",
       "        [1, 2, 0]]], dtype=int32)"
      ]
     },
     "execution_count": 154,
     "metadata": {},
     "output_type": "execute_result"
    }
   ],
   "source": [
    "a3 % 3"
   ]
  },
  {
   "cell_type": "code",
   "execution_count": 155,
   "id": "10b62386",
   "metadata": {},
   "outputs": [
    {
     "data": {
      "text/plain": [
       "array([ 2.71828183,  7.3890561 , 20.08553692])"
      ]
     },
     "execution_count": 155,
     "metadata": {},
     "output_type": "execute_result"
    }
   ],
   "source": [
    "np.exp(a1)"
   ]
  },
  {
   "cell_type": "code",
   "execution_count": 156,
   "id": "ff55c6bc",
   "metadata": {},
   "outputs": [
    {
     "data": {
      "text/plain": [
       "array([0.        , 0.69314718, 1.09861229])"
      ]
     },
     "execution_count": 156,
     "metadata": {},
     "output_type": "execute_result"
    }
   ],
   "source": [
    "np.log(a1)"
   ]
  },
  {
   "cell_type": "code",
   "execution_count": 160,
   "id": "97d5afb5",
   "metadata": {},
   "outputs": [
    {
     "data": {
      "text/plain": [
       "array([[[[1., 1.],\n",
       "         [1., 1.],\n",
       "         [1., 1.]],\n",
       "\n",
       "        [[1., 1.],\n",
       "         [1., 1.],\n",
       "         [1., 1.]],\n",
       "\n",
       "        [[1., 1.],\n",
       "         [1., 1.],\n",
       "         [1., 1.]]],\n",
       "\n",
       "\n",
       "       [[[1., 1.],\n",
       "         [1., 1.],\n",
       "         [1., 1.]],\n",
       "\n",
       "        [[1., 1.],\n",
       "         [1., 1.],\n",
       "         [1., 1.]],\n",
       "\n",
       "        [[1., 1.],\n",
       "         [1., 1.],\n",
       "         [1., 1.]]]])"
      ]
     },
     "execution_count": 160,
     "metadata": {},
     "output_type": "execute_result"
    }
   ],
   "source": [
    "a4 = np.ones((2, 3, 3, 2))\n",
    "a4"
   ]
  },
  {
   "cell_type": "code",
   "execution_count": 164,
   "id": "c5e51bf3",
   "metadata": {},
   "outputs": [
    {
     "data": {
      "text/plain": [
       "array([[[[1., 2.],\n",
       "         [1., 2.],\n",
       "         [1., 2.]],\n",
       "\n",
       "        [[1., 2.],\n",
       "         [1., 2.],\n",
       "         [1., 2.]],\n",
       "\n",
       "        [[1., 2.],\n",
       "         [1., 2.],\n",
       "         [1., 2.]]],\n",
       "\n",
       "\n",
       "       [[[1., 2.],\n",
       "         [1., 2.],\n",
       "         [1., 2.]],\n",
       "\n",
       "        [[1., 2.],\n",
       "         [1., 2.],\n",
       "         [1., 2.]],\n",
       "\n",
       "        [[1., 2.],\n",
       "         [1., 2.],\n",
       "         [1., 2.]]]])"
      ]
     },
     "execution_count": 164,
     "metadata": {},
     "output_type": "execute_result"
    }
   ],
   "source": [
    "a4 * np.arange(1, 3, 1)"
   ]
  },
  {
   "cell_type": "markdown",
   "id": "f607a1f2",
   "metadata": {},
   "source": [
    "### Aggregation\n",
    "Agregation = performing the same operation over a number of things"
   ]
  },
  {
   "cell_type": "code",
   "execution_count": 165,
   "id": "3a526be8",
   "metadata": {},
   "outputs": [
    {
     "data": {
      "text/plain": [
       "list"
      ]
     },
     "execution_count": 165,
     "metadata": {},
     "output_type": "execute_result"
    }
   ],
   "source": [
    "listy_list = [1, 2, 3]\n",
    "type(listy_list)"
   ]
  },
  {
   "cell_type": "code",
   "execution_count": 166,
   "id": "3ab604a9",
   "metadata": {},
   "outputs": [
    {
     "data": {
      "text/plain": [
       "6"
      ]
     },
     "execution_count": 166,
     "metadata": {},
     "output_type": "execute_result"
    }
   ],
   "source": [
    "sum(listy_list)"
   ]
  },
  {
   "cell_type": "code",
   "execution_count": 167,
   "id": "1130546d",
   "metadata": {},
   "outputs": [
    {
     "data": {
      "text/plain": [
       "array([1, 2, 3])"
      ]
     },
     "execution_count": 167,
     "metadata": {},
     "output_type": "execute_result"
    }
   ],
   "source": [
    "a1"
   ]
  },
  {
   "cell_type": "code",
   "execution_count": 168,
   "id": "d81227c0",
   "metadata": {},
   "outputs": [
    {
     "data": {
      "text/plain": [
       "numpy.ndarray"
      ]
     },
     "execution_count": 168,
     "metadata": {},
     "output_type": "execute_result"
    }
   ],
   "source": [
    "type(a1)"
   ]
  },
  {
   "cell_type": "code",
   "execution_count": 169,
   "id": "da44919a",
   "metadata": {},
   "outputs": [
    {
     "data": {
      "text/plain": [
       "6"
      ]
     },
     "execution_count": 169,
     "metadata": {},
     "output_type": "execute_result"
    }
   ],
   "source": [
    "sum(a1)"
   ]
  },
  {
   "cell_type": "code",
   "execution_count": 170,
   "id": "69899356",
   "metadata": {},
   "outputs": [
    {
     "data": {
      "text/plain": [
       "6"
      ]
     },
     "execution_count": 170,
     "metadata": {},
     "output_type": "execute_result"
    }
   ],
   "source": [
    "np.sum(a1)"
   ]
  },
  {
   "cell_type": "markdown",
   "id": "3a576155",
   "metadata": {},
   "source": [
    " use python methods on python dtypes and\n",
    " \n",
    " use np methods over np arrays"
   ]
  },
  {
   "cell_type": "code",
   "execution_count": 173,
   "id": "b39b6f43",
   "metadata": {},
   "outputs": [
    {
     "data": {
      "text/plain": [
       "10000"
      ]
     },
     "execution_count": 173,
     "metadata": {},
     "output_type": "execute_result"
    }
   ],
   "source": [
    "#create a amssive np array  \n",
    "massive_array = np.random.random(10000)\n",
    "massive_array.size"
   ]
  },
  {
   "cell_type": "code",
   "execution_count": 175,
   "id": "324fc715",
   "metadata": {},
   "outputs": [
    {
     "data": {
      "text/plain": [
       "array([0.68329594, 0.29914802, 0.52704171, 0.41225651, 0.07115543,\n",
       "       0.17424407, 0.57354565, 0.9098148 , 0.35483401, 0.27951508])"
      ]
     },
     "execution_count": 175,
     "metadata": {},
     "output_type": "execute_result"
    }
   ],
   "source": [
    "massive_array[:10]"
   ]
  },
  {
   "cell_type": "code",
   "execution_count": 178,
   "id": "071be1b7",
   "metadata": {},
   "outputs": [
    {
     "name": "stdout",
     "output_type": "stream",
     "text": [
      "907 µs ± 5.22 µs per loop (mean ± std. dev. of 7 runs, 1,000 loops each)\n",
      "8.05 µs ± 20.3 ns per loop (mean ± std. dev. of 7 runs, 100,000 loops each)\n"
     ]
    }
   ],
   "source": [
    "%timeit sum(massive_array) # Python`s sum\n",
    "%timeit np.sum(massive_array) #np sum"
   ]
  },
  {
   "cell_type": "code",
   "execution_count": 180,
   "id": "134706c3",
   "metadata": {},
   "outputs": [],
   "source": [
    "lists = [i for i in range(1000)]\n",
    "lists_arr = np.random.random((100, 10))"
   ]
  },
  {
   "cell_type": "code",
   "execution_count": 181,
   "id": "a534e66e",
   "metadata": {},
   "outputs": [
    {
     "name": "stdout",
     "output_type": "stream",
     "text": [
      "3.42 µs ± 3.92 ns per loop (mean ± std. dev. of 7 runs, 100,000 loops each)\n",
      "63.5 µs ± 516 ns per loop (mean ± std. dev. of 7 runs, 10,000 loops each)\n"
     ]
    }
   ],
   "source": [
    "%timeit sum(lists)\n",
    "%timeit sum(lists_arr)"
   ]
  },
  {
   "cell_type": "code",
   "execution_count": 182,
   "id": "28fff71a",
   "metadata": {},
   "outputs": [
    {
     "data": {
      "text/plain": [
       "3.6999999999999997"
      ]
     },
     "execution_count": 182,
     "metadata": {},
     "output_type": "execute_result"
    }
   ],
   "source": [
    "np.mean(a2)"
   ]
  },
  {
   "cell_type": "code",
   "execution_count": 183,
   "id": "6206f985",
   "metadata": {},
   "outputs": [
    {
     "data": {
      "text/plain": [
       "6.5"
      ]
     },
     "execution_count": 183,
     "metadata": {},
     "output_type": "execute_result"
    }
   ],
   "source": [
    "np.max(a2)"
   ]
  },
  {
   "cell_type": "code",
   "execution_count": 184,
   "id": "ecb49412",
   "metadata": {},
   "outputs": [
    {
     "data": {
      "text/plain": [
       "3.6999999999999997"
      ]
     },
     "execution_count": 184,
     "metadata": {},
     "output_type": "execute_result"
    }
   ],
   "source": [
    "np.mean(a2)"
   ]
  },
  {
   "cell_type": "code",
   "execution_count": 185,
   "id": "fa088c99",
   "metadata": {},
   "outputs": [
    {
     "data": {
      "text/plain": [
       "1.888562063228706"
      ]
     },
     "execution_count": 185,
     "metadata": {},
     "output_type": "execute_result"
    }
   ],
   "source": [
    "# Standart deviasion is how spred out the group of numbers is from the mean\n",
    "np.std(a2)"
   ]
  },
  {
   "cell_type": "code",
   "execution_count": 187,
   "id": "29b9e75c",
   "metadata": {},
   "outputs": [
    {
     "data": {
      "text/plain": [
       "3.566666666666667"
      ]
     },
     "execution_count": 187,
     "metadata": {},
     "output_type": "execute_result"
    }
   ],
   "source": [
    "# VArience is a measure of a avarage degree to which each number differrent to the mean\n",
    "np.var(a2)"
   ]
  },
  {
   "cell_type": "code",
   "execution_count": 189,
   "id": "ad8735d0",
   "metadata": {},
   "outputs": [],
   "source": [
    "# Demo of STD and var\n",
    "high_var_array = np.array([1, 200,300,4000,5000])\n",
    "low_var_array = np.array([2,4,6,8,10])"
   ]
  },
  {
   "cell_type": "code",
   "execution_count": 191,
   "id": "30cb60bf",
   "metadata": {},
   "outputs": [
    {
     "data": {
      "text/plain": [
       "(4615240.16, 8.0)"
      ]
     },
     "execution_count": 191,
     "metadata": {},
     "output_type": "execute_result"
    }
   ],
   "source": [
    "np.var(high_var_array), np.var(low_var_array)"
   ]
  },
  {
   "cell_type": "code",
   "execution_count": 194,
   "id": "812bf4e4",
   "metadata": {},
   "outputs": [
    {
     "data": {
      "text/plain": [
       "(2148.3110016941214, 2.8284271247461903)"
      ]
     },
     "execution_count": 194,
     "metadata": {},
     "output_type": "execute_result"
    }
   ],
   "source": [
    "np.std(high_var_array), np.std(low_var_array)"
   ]
  },
  {
   "cell_type": "code",
   "execution_count": 195,
   "id": "014e9d1c",
   "metadata": {},
   "outputs": [
    {
     "data": {
      "text/plain": [
       "(1900.2, 6.0)"
      ]
     },
     "execution_count": 195,
     "metadata": {},
     "output_type": "execute_result"
    }
   ],
   "source": [
    "np.mean(high_var_array), np.mean(low_var_array)"
   ]
  },
  {
   "cell_type": "code",
   "execution_count": 199,
   "id": "adf38082",
   "metadata": {},
   "outputs": [
    {
     "data": {
      "image/png": "[encoded data removed]",
      "text/plain": [
       "<Figure size 640x480 with 1 Axes>"
      ]
     },
     "metadata": {},
     "output_type": "display_data"
    }
   ],
   "source": [
    "%matplotlib inline\n",
    "import matplotlib.pyplot as plt\n",
    "plt.hist(high_var_array)\n",
    "plt.show()"
   ]
  },
  {
   "cell_type": "code",
   "execution_count": 201,
   "id": "d59c3e17",
   "metadata": {},
   "outputs": [
    {
     "data": {
      "text/plain": [
       "<function matplotlib.pyplot.show(close=None, block=None)>"
      ]
     },
     "execution_count": 201,
     "metadata": {},
     "output_type": "execute_result"
    },
    {
     "data": {
      "image/png": "[encoded data removed]",
      "text/plain": [
       "<Figure size 640x480 with 1 Axes>"
      ]
     },
     "metadata": {},
     "output_type": "display_data"
    }
   ],
   "source": [
    "plt.hist(low_var_array)\n",
    "plt.show"
   ]
  },
  {
   "cell_type": "markdown",
   "id": "f56e1d3b",
   "metadata": {},
   "source": [
    "### Reshaping and transposing"
   ]
  },
  {
   "cell_type": "code",
   "execution_count": 204,
   "id": "466c23f1",
   "metadata": {},
   "outputs": [
    {
     "data": {
      "text/plain": [
       "array([[1. , 2. , 3. ],\n",
       "       [4.5, 5.2, 6.5]])"
      ]
     },
     "execution_count": 204,
     "metadata": {},
     "output_type": "execute_result"
    }
   ],
   "source": [
    "a2"
   ]
  },
  {
   "cell_type": "code",
   "execution_count": 205,
   "id": "1bbe37eb",
   "metadata": {},
   "outputs": [
    {
     "data": {
      "text/plain": [
       "(2, 3)"
      ]
     },
     "execution_count": 205,
     "metadata": {},
     "output_type": "execute_result"
    }
   ],
   "source": [
    "a2.shape"
   ]
  },
  {
   "cell_type": "code",
   "execution_count": 206,
   "id": "3eeeb733",
   "metadata": {},
   "outputs": [
    {
     "data": {
      "text/plain": [
       "array([[[ 1,  2,  3],\n",
       "        [ 4,  5,  6],\n",
       "        [ 7,  8,  9]],\n",
       "\n",
       "       [[12, 11, 13],\n",
       "        [13, 14, 15],\n",
       "        [16, 17, 18]]])"
      ]
     },
     "execution_count": 206,
     "metadata": {},
     "output_type": "execute_result"
    }
   ],
   "source": [
    "a3"
   ]
  },
  {
   "cell_type": "code",
   "execution_count": 207,
   "id": "7e638be2",
   "metadata": {},
   "outputs": [
    {
     "data": {
      "text/plain": [
       "(2, 3, 3)"
      ]
     },
     "execution_count": 207,
     "metadata": {},
     "output_type": "execute_result"
    }
   ],
   "source": [
    "a3.shape"
   ]
  },
  {
   "cell_type": "code",
   "execution_count": 208,
   "id": "d67ac4c9",
   "metadata": {},
   "outputs": [
    {
     "ename": "ValueError",
     "evalue": "operands could not be broadcast together with shapes (2,3) (2,3,3) ",
     "output_type": "error",
     "traceback": [
      "\u001b[1;31m---------------------------------------------------------------------------\u001b[0m",
      "\u001b[1;31mValueError\u001b[0m                                Traceback (most recent call last)",
      "Cell \u001b[1;32mIn[208], line 1\u001b[0m\n\u001b[1;32m----> 1\u001b[0m a2 \u001b[38;5;241m*\u001b[39m a3\n",
      "\u001b[1;31mValueError\u001b[0m: operands could not be broadcast together with shapes (2,3) (2,3,3) "
     ]
    }
   ],
   "source": [
    "a2 * a3"
   ]
  },
  {
   "cell_type": "code",
   "execution_count": 218,
   "id": "d40261a7",
   "metadata": {},
   "outputs": [
    {
     "data": {
      "text/plain": [
       "array([[[1. ],\n",
       "        [2. ],\n",
       "        [3. ]],\n",
       "\n",
       "       [[4.5],\n",
       "        [5.2],\n",
       "        [6.5]]])"
      ]
     },
     "execution_count": 218,
     "metadata": {},
     "output_type": "execute_result"
    }
   ],
   "source": [
    "a2.reshape(2,3,1)"
   ]
  },
  {
   "cell_type": "code",
   "execution_count": 213,
   "id": "3b8b76d7",
   "metadata": {},
   "outputs": [
    {
     "data": {
      "text/plain": [
       "(2, 3, 3)"
      ]
     },
     "execution_count": 213,
     "metadata": {},
     "output_type": "execute_result"
    }
   ],
   "source": [
    "a3.shape"
   ]
  },
  {
   "cell_type": "code",
   "execution_count": 217,
   "id": "c27c2dee",
   "metadata": {},
   "outputs": [
    {
     "data": {
      "text/plain": [
       "array([[[  1. ,   2. ,   3. ],\n",
       "        [  8. ,  10. ,  12. ],\n",
       "        [ 21. ,  24. ,  27. ]],\n",
       "\n",
       "       [[ 54. ,  49.5,  58.5],\n",
       "        [ 67.6,  72.8,  78. ],\n",
       "        [104. , 110.5, 117. ]]])"
      ]
     },
     "execution_count": 217,
     "metadata": {},
     "output_type": "execute_result"
    }
   ],
   "source": [
    "a2_re = a2.reshape(2,3,1)\n",
    "a2_re * a3"
   ]
  },
  {
   "cell_type": "markdown",
   "id": "ccd938fa",
   "metadata": {},
   "source": [
    "Two dimensions are compatible when\n",
    "\n",
    "they are equal, or\n",
    "\n",
    "one of them is 1.\n",
    "\n",
    "A      (4d array):  8 x 1 x 6 x 1\n",
    "\n",
    "B      (3d array):   7 x 1 x 5\n",
    "\n",
    "Result (4d array):  8 x 7 x 6 x 5\n",
    "\n",
    "if dimension from the left is abscent it is being interpretadet as 1 by default"
   ]
  },
  {
   "cell_type": "code",
   "execution_count": 219,
   "id": "2a1194da",
   "metadata": {},
   "outputs": [
    {
     "data": {
      "text/plain": [
       "array([[[[0.08563808, 0.10976809, 0.12040756],\n",
       "         [0.27622769, 0.35405964, 0.3883775 ],\n",
       "         [0.16834497, 0.21577909, 0.23669386],\n",
       "         [0.07949928, 0.10189958, 0.11177638]],\n",
       "\n",
       "        [[0.09115911, 0.10257891, 0.03279239],\n",
       "         [0.04039132, 0.04545127, 0.01452984],\n",
       "         [0.10318745, 0.11611408, 0.0371193 ],\n",
       "         [0.68924608, 0.77559016, 0.24794036]]],\n",
       "\n",
       "\n",
       "       [[[0.45520941, 0.58347256, 0.64002667],\n",
       "         [0.02826372, 0.03622752, 0.03973893],\n",
       "         [0.11207172, 0.14364987, 0.15757339],\n",
       "         [0.34177832, 0.43808029, 0.480542  ]],\n",
       "\n",
       "        [[0.06379856, 0.07179082, 0.02295006],\n",
       "         [0.07079394, 0.07966253, 0.02546649],\n",
       "         [0.49492323, 0.55692386, 0.1780372 ],\n",
       "         [0.33885677, 0.38130645, 0.1218959 ]]],\n",
       "\n",
       "\n",
       "       [[[0.36268893, 0.46488283, 0.50994242],\n",
       "         [0.38651271, 0.49541937, 0.54343877],\n",
       "         [0.18311087, 0.23470553, 0.25745478],\n",
       "         [0.36883712, 0.47276337, 0.5185868 ]],\n",
       "\n",
       "        [[0.30691168, 0.3453595 , 0.11040439],\n",
       "         [0.00437601, 0.00492421, 0.00157417],\n",
       "         [0.16605673, 0.18685919, 0.05973507],\n",
       "         [0.18728115, 0.21074246, 0.06737007]]]])"
      ]
     },
     "execution_count": 219,
     "metadata": {},
     "output_type": "execute_result"
    }
   ],
   "source": [
    "ex_arr1 = np.random.rand(1,2,1,3)\n",
    "ex_arr2= np.random.rand(3,2,4,1)\n",
    "ex_arr1 * ex_arr2"
   ]
  },
  {
   "cell_type": "code",
   "execution_count": 221,
   "id": "be072d8a",
   "metadata": {},
   "outputs": [
    {
     "data": {
      "text/plain": [
       "(array([[1. , 2. , 3. ],\n",
       "        [4.5, 5.2, 6.5]]),\n",
       " (2, 3))"
      ]
     },
     "execution_count": 221,
     "metadata": {},
     "output_type": "execute_result"
    }
   ],
   "source": [
    "a2, a2.shape"
   ]
  },
  {
   "cell_type": "code",
   "execution_count": 220,
   "id": "f30689f4",
   "metadata": {},
   "outputs": [
    {
     "data": {
      "text/plain": [
       "array([[1. , 4.5],\n",
       "       [2. , 5.2],\n",
       "       [3. , 6.5]])"
      ]
     },
     "execution_count": 220,
     "metadata": {},
     "output_type": "execute_result"
    }
   ],
   "source": [
    "#Transpose\n",
    "a2.T"
   ]
  },
  {
   "cell_type": "code",
   "execution_count": 222,
   "id": "510ced7b",
   "metadata": {},
   "outputs": [
    {
     "data": {
      "text/plain": [
       "(3, 2)"
      ]
     },
     "execution_count": 222,
     "metadata": {},
     "output_type": "execute_result"
    }
   ],
   "source": [
    "a2.T.shape"
   ]
  },
  {
   "cell_type": "code",
   "execution_count": 223,
   "id": "8e3e3242",
   "metadata": {},
   "outputs": [
    {
     "data": {
      "text/plain": [
       "(2, 3, 3)"
      ]
     },
     "execution_count": 223,
     "metadata": {},
     "output_type": "execute_result"
    }
   ],
   "source": [
    "a3.shape"
   ]
  },
  {
   "cell_type": "code",
   "execution_count": 225,
   "id": "891e6f47",
   "metadata": {},
   "outputs": [
    {
     "data": {
      "text/plain": [
       "array([[[ 1,  2,  3],\n",
       "        [ 4,  5,  6],\n",
       "        [ 7,  8,  9]],\n",
       "\n",
       "       [[12, 11, 13],\n",
       "        [13, 14, 15],\n",
       "        [16, 17, 18]]])"
      ]
     },
     "execution_count": 225,
     "metadata": {},
     "output_type": "execute_result"
    }
   ],
   "source": [
    "a3"
   ]
  },
  {
   "cell_type": "code",
   "execution_count": 224,
   "id": "dfde3595",
   "metadata": {},
   "outputs": [
    {
     "data": {
      "text/plain": [
       "array([[[ 1, 12],\n",
       "        [ 4, 13],\n",
       "        [ 7, 16]],\n",
       "\n",
       "       [[ 2, 11],\n",
       "        [ 5, 14],\n",
       "        [ 8, 17]],\n",
       "\n",
       "       [[ 3, 13],\n",
       "        [ 6, 15],\n",
       "        [ 9, 18]]])"
      ]
     },
     "execution_count": 224,
     "metadata": {},
     "output_type": "execute_result"
    }
   ],
   "source": [
    "a3.T"
   ]
  },
  {
   "cell_type": "code",
   "execution_count": 226,
   "id": "8647786b",
   "metadata": {},
   "outputs": [
    {
     "data": {
      "text/plain": [
       "(3, 3, 2)"
      ]
     },
     "execution_count": 226,
     "metadata": {},
     "output_type": "execute_result"
    }
   ],
   "source": [
    "a3.T.shape"
   ]
  },
  {
   "cell_type": "markdown",
   "id": "bba06bef",
   "metadata": {},
   "source": [
    "## Dot product"
   ]
  },
  {
   "cell_type": "code",
   "execution_count": 227,
   "id": "088d8c89",
   "metadata": {},
   "outputs": [
    {
     "data": {
      "text/plain": [
       "array([[5, 0, 3],\n",
       "       [3, 7, 9],\n",
       "       [3, 5, 2],\n",
       "       [4, 7, 6],\n",
       "       [8, 8, 1]])"
      ]
     },
     "execution_count": 227,
     "metadata": {},
     "output_type": "execute_result"
    }
   ],
   "source": [
    "np.random.seed(0)\n",
    "\n",
    "mat1 = np.random.randint(10, size=(5,3))\n",
    "mat2 = np.random.randint(10, size=(5,3))\n",
    "\n",
    "mat1"
   ]
  },
  {
   "cell_type": "code",
   "execution_count": 228,
   "id": "259f7e65",
   "metadata": {},
   "outputs": [
    {
     "data": {
      "text/plain": [
       "array([[6, 7, 7],\n",
       "       [8, 1, 5],\n",
       "       [9, 8, 9],\n",
       "       [4, 3, 0],\n",
       "       [3, 5, 0]])"
      ]
     },
     "execution_count": 228,
     "metadata": {},
     "output_type": "execute_result"
    }
   ],
   "source": [
    "mat2"
   ]
  },
  {
   "cell_type": "code",
   "execution_count": 230,
   "id": "a57471ae",
   "metadata": {},
   "outputs": [
    {
     "data": {
      "text/plain": [
       "((5, 3), (5, 3))"
      ]
     },
     "execution_count": 230,
     "metadata": {},
     "output_type": "execute_result"
    }
   ],
   "source": [
    "mat1.shape, mat2.shape"
   ]
  },
  {
   "cell_type": "code",
   "execution_count": 232,
   "id": "ca5d4005",
   "metadata": {},
   "outputs": [
    {
     "data": {
      "text/plain": [
       "array([[30,  0, 21],\n",
       "       [24,  7, 45],\n",
       "       [27, 40, 18],\n",
       "       [16, 21,  0],\n",
       "       [24, 40,  0]])"
      ]
     },
     "execution_count": 232,
     "metadata": {},
     "output_type": "execute_result"
    }
   ],
   "source": [
    "# Element wise multiplication\n",
    "mat1 * mat2"
   ]
  },
  {
   "cell_type": "code",
   "execution_count": 233,
   "id": "16f306e6",
   "metadata": {},
   "outputs": [
    {
     "ename": "ValueError",
     "evalue": "shapes (5,3) and (5,3) not aligned: 3 (dim 1) != 5 (dim 0)",
     "output_type": "error",
     "traceback": [
      "\u001b[1;31m---------------------------------------------------------------------------\u001b[0m",
      "\u001b[1;31mValueError\u001b[0m                                Traceback (most recent call last)",
      "Cell \u001b[1;32mIn[233], line 2\u001b[0m\n\u001b[0;32m      1\u001b[0m \u001b[38;5;66;03m# Dot product\u001b[39;00m\n\u001b[1;32m----> 2\u001b[0m np\u001b[38;5;241m.\u001b[39mdot(mat1, mat2)\n",
      "File \u001b[1;32m<__array_function__ internals>:200\u001b[0m, in \u001b[0;36mdot\u001b[1;34m(*args, **kwargs)\u001b[0m\n",
      "\u001b[1;31mValueError\u001b[0m: shapes (5,3) and (5,3) not aligned: 3 (dim 1) != 5 (dim 0)"
     ]
    }
   ],
   "source": [
    "# Dot product\n",
    "np.dot(mat1, mat2)"
   ]
  },
  {
   "cell_type": "code",
   "execution_count": 239,
   "id": "a6bfe906",
   "metadata": {},
   "outputs": [
    {
     "data": {
      "text/plain": [
       "array([[ 39,  35,  44,  55,   5],\n",
       "       [ 80,  84, 104, 132,  31],\n",
       "       [ 49,  66,  67,  79,  23],\n",
       "       [ 77,  91, 102, 125,  32],\n",
       "       [ 91, 128, 123, 141,  40]])"
      ]
     },
     "execution_count": 239,
     "metadata": {},
     "output_type": "execute_result"
    }
   ],
   "source": [
    "#это скалярное произведение\n",
    "\n",
    "np.random.seed(0)\n",
    "\n",
    "mat1 = np.random.randint(10, size=(5,3))\n",
    "mat2 = np.random.randint(10, size=(3,5))\n",
    "\n",
    "np.dot(mat1, mat2)"
   ]
  },
  {
   "cell_type": "code",
   "execution_count": 240,
   "id": "3c59a693",
   "metadata": {},
   "outputs": [],
   "source": [
    "np.random.seed(0)\n",
    "\n",
    "mat1 = np.random.randint(10, size=(5,3))\n",
    "mat2 = np.random.randint(10, size=(5,3))\n",
    "\n"
   ]
  },
  {
   "cell_type": "code",
   "execution_count": 244,
   "id": "7ea95432",
   "metadata": {},
   "outputs": [
    {
     "data": {
      "text/plain": [
       "array([[ 51,  55,  72,  20,  15],\n",
       "       [130,  76, 164,  33,  44],\n",
       "       [ 67,  39,  85,  27,  34],\n",
       "       [115,  69, 146,  37,  47],\n",
       "       [111,  77, 145,  56,  64]])"
      ]
     },
     "execution_count": 244,
     "metadata": {},
     "output_type": "execute_result"
    }
   ],
   "source": [
    "# Transpose\n",
    "np.dot(mat1, mat2.T)"
   ]
  },
  {
   "cell_type": "code",
   "execution_count": 247,
   "id": "569bd0bc",
   "metadata": {},
   "outputs": [
    {
     "data": {
      "text/plain": [
       "(array([[0.39334449, 0.3193746 , 0.67981182],\n",
       "        [0.41458337, 0.36002844, 0.71372252],\n",
       "        [0.15707425, 0.16824484, 0.26660663]]),\n",
       " array([[0.88226763, 0.24205746],\n",
       "        [0.57134292, 0.13771192]]))"
      ]
     },
     "execution_count": 247,
     "metadata": {},
     "output_type": "execute_result"
    }
   ],
   "source": [
    "exam_1 = np.random.rand(2, 3)\n",
    "exam_2 = np.random.rand(2, 3)\n",
    "\n",
    "np.dot(exam_1.T, exam_2), np.dot(exam_1, exam_2.T)"
   ]
  },
  {
   "cell_type": "markdown",
   "id": "69d0f8b8",
   "metadata": {},
   "source": [
    "## Dot Product"
   ]
  },
  {
   "cell_type": "code",
   "execution_count": 248,
   "id": "928f204c",
   "metadata": {},
   "outputs": [
    {
     "data": {
      "text/plain": [
       "array([[12, 15,  0],\n",
       "       [ 3,  3,  7],\n",
       "       [ 9, 19, 18],\n",
       "       [ 4,  6, 12],\n",
       "       [ 1,  6,  7]])"
      ]
     },
     "execution_count": 248,
     "metadata": {},
     "output_type": "execute_result"
    }
   ],
   "source": [
    "np.random.seed(0)\n",
    "#Number of jars sold\n",
    "sales_amounts = np.random.randint(20, size=(5,3))\n",
    "sales_amounts"
   ]
  },
  {
   "cell_type": "code",
   "execution_count": 249,
   "id": "12a84453",
   "metadata": {},
   "outputs": [
    {
     "data": {
      "text/html": [
       "<div>\n",
       "<style scoped>\n",
       "    .dataframe tbody tr th:only-of-type {\n",
       "        vertical-align: middle;\n",
       "    }\n",
       "\n",
       "    .dataframe tbody tr th {\n",
       "        vertical-align: top;\n",
       "    }\n",
       "\n",
       "    .dataframe thead th {\n",
       "        text-align: right;\n",
       "    }\n",
       "</style>\n",
       "<table border=\"1\" class=\"dataframe\">\n",
       "  <thead>\n",
       "    <tr style=\"text-align: right;\">\n",
       "      <th></th>\n",
       "      <th>Almound butter</th>\n",
       "      <th>Peanut butter</th>\n",
       "      <th>Cashew butter</th>\n",
       "    </tr>\n",
       "  </thead>\n",
       "  <tbody>\n",
       "    <tr>\n",
       "      <th>Mon</th>\n",
       "      <td>12</td>\n",
       "      <td>15</td>\n",
       "      <td>0</td>\n",
       "    </tr>\n",
       "    <tr>\n",
       "      <th>Tues</th>\n",
       "      <td>3</td>\n",
       "      <td>3</td>\n",
       "      <td>7</td>\n",
       "    </tr>\n",
       "    <tr>\n",
       "      <th>Wed</th>\n",
       "      <td>9</td>\n",
       "      <td>19</td>\n",
       "      <td>18</td>\n",
       "    </tr>\n",
       "    <tr>\n",
       "      <th>Thurs</th>\n",
       "      <td>4</td>\n",
       "      <td>6</td>\n",
       "      <td>12</td>\n",
       "    </tr>\n",
       "    <tr>\n",
       "      <th>Fri</th>\n",
       "      <td>1</td>\n",
       "      <td>6</td>\n",
       "      <td>7</td>\n",
       "    </tr>\n",
       "  </tbody>\n",
       "</table>\n",
       "</div>"
      ],
      "text/plain": [
       "       Almound butter  Peanut butter  Cashew butter\n",
       "Mon                12             15              0\n",
       "Tues                3              3              7\n",
       "Wed                 9             19             18\n",
       "Thurs               4              6             12\n",
       "Fri                 1              6              7"
      ]
     },
     "execution_count": 249,
     "metadata": {},
     "output_type": "execute_result"
    }
   ],
   "source": [
    "# Create weekly salers dataframe\n",
    "weekly_sales = pd.DataFrame(sales_amounts, index=[\"Mon\", \"Tues\", \"Wed\", \"Thurs\", \"Fri\"], \n",
    "                           columns=[\"Almound butter\", \"Peanut butter\", \"Cashew butter\"])\n",
    "weekly_sales"
   ]
  },
  {
   "cell_type": "code",
   "execution_count": 250,
   "id": "41cbf65b",
   "metadata": {},
   "outputs": [
    {
     "data": {
      "text/plain": [
       "array([10,  8, 12])"
      ]
     },
     "execution_count": 250,
     "metadata": {},
     "output_type": "execute_result"
    }
   ],
   "source": [
    "# create prices array \n",
    "prices = np.array([10, 8,12])\n",
    "prices"
   ]
  },
  {
   "cell_type": "code",
   "execution_count": 254,
   "id": "a544efb8",
   "metadata": {},
   "outputs": [
    {
     "data": {
      "text/plain": [
       "(3,)"
      ]
     },
     "execution_count": 254,
     "metadata": {},
     "output_type": "execute_result"
    }
   ],
   "source": [
    "prices.shape"
   ]
  },
  {
   "cell_type": "code",
   "execution_count": 257,
   "id": "473ab24f",
   "metadata": {},
   "outputs": [
    {
     "data": {
      "text/html": [
       "<div>\n",
       "<style scoped>\n",
       "    .dataframe tbody tr th:only-of-type {\n",
       "        vertical-align: middle;\n",
       "    }\n",
       "\n",
       "    .dataframe tbody tr th {\n",
       "        vertical-align: top;\n",
       "    }\n",
       "\n",
       "    .dataframe thead th {\n",
       "        text-align: right;\n",
       "    }\n",
       "</style>\n",
       "<table border=\"1\" class=\"dataframe\">\n",
       "  <thead>\n",
       "    <tr style=\"text-align: right;\">\n",
       "      <th></th>\n",
       "      <th>Almound butter</th>\n",
       "      <th>Peanut butter</th>\n",
       "      <th>Cashew butter</th>\n",
       "    </tr>\n",
       "  </thead>\n",
       "  <tbody>\n",
       "    <tr>\n",
       "      <th>price</th>\n",
       "      <td>10</td>\n",
       "      <td>8</td>\n",
       "      <td>12</td>\n",
       "    </tr>\n",
       "  </tbody>\n",
       "</table>\n",
       "</div>"
      ],
      "text/plain": [
       "       Almound butter  Peanut butter  Cashew butter\n",
       "price              10              8             12"
      ]
     },
     "execution_count": 257,
     "metadata": {},
     "output_type": "execute_result"
    }
   ],
   "source": [
    "# Create butter_prices DataFrame\n",
    "butter_prices = pd.DataFrame(prices.reshape(1, 3), index=[\"price\"], \n",
    "                             columns=[\"Almound butter\", \"Peanut butter\", \"Cashew butter\"])\n",
    "butter_prices"
   ]
  },
  {
   "cell_type": "code",
   "execution_count": 259,
   "id": "8353570c",
   "metadata": {},
   "outputs": [
    {
     "data": {
      "text/plain": [
       "array([[12, 15,  0],\n",
       "       [ 3,  3,  7],\n",
       "       [ 9, 19, 18],\n",
       "       [ 4,  6, 12],\n",
       "       [ 1,  6,  7]])"
      ]
     },
     "execution_count": 259,
     "metadata": {},
     "output_type": "execute_result"
    }
   ],
   "source": [
    "sales_amounts"
   ]
  },
  {
   "cell_type": "code",
   "execution_count": 258,
   "id": "9f0ebfab",
   "metadata": {},
   "outputs": [
    {
     "ename": "ValueError",
     "evalue": "shapes (3,) and (5,3) not aligned: 3 (dim 0) != 5 (dim 0)",
     "output_type": "error",
     "traceback": [
      "\u001b[1;31m---------------------------------------------------------------------------\u001b[0m",
      "\u001b[1;31mValueError\u001b[0m                                Traceback (most recent call last)",
      "Cell \u001b[1;32mIn[258], line 1\u001b[0m\n\u001b[1;32m----> 1\u001b[0m total_sales \u001b[38;5;241m=\u001b[39m prices\u001b[38;5;241m.\u001b[39mdot(sales_amounts)\n",
      "\u001b[1;31mValueError\u001b[0m: shapes (3,) and (5,3) not aligned: 3 (dim 0) != 5 (dim 0)"
     ]
    }
   ],
   "source": [
    "total_sales = prices.dot(sales_amounts)"
   ]
  },
  {
   "cell_type": "code",
   "execution_count": 262,
   "id": "fbe4a14e",
   "metadata": {},
   "outputs": [
    {
     "data": {
      "text/plain": [
       "array([240, 138, 458, 232, 142])"
      ]
     },
     "execution_count": 262,
     "metadata": {},
     "output_type": "execute_result"
    }
   ],
   "source": [
    "# Shapes aren`t aligned, transpose needed\n",
    "total_sales = prices.dot(sales_amounts.T)\n",
    "total_sales"
   ]
  },
  {
   "cell_type": "code",
   "execution_count": 266,
   "id": "395f1481",
   "metadata": {},
   "outputs": [
    {
     "data": {
      "text/html": [
       "<div>\n",
       "<style scoped>\n",
       "    .dataframe tbody tr th:only-of-type {\n",
       "        vertical-align: middle;\n",
       "    }\n",
       "\n",
       "    .dataframe tbody tr th {\n",
       "        vertical-align: top;\n",
       "    }\n",
       "\n",
       "    .dataframe thead th {\n",
       "        text-align: right;\n",
       "    }\n",
       "</style>\n",
       "<table border=\"1\" class=\"dataframe\">\n",
       "  <thead>\n",
       "    <tr style=\"text-align: right;\">\n",
       "      <th></th>\n",
       "      <th>Almound butter</th>\n",
       "      <th>Peanut butter</th>\n",
       "      <th>Cashew butter</th>\n",
       "    </tr>\n",
       "  </thead>\n",
       "  <tbody>\n",
       "    <tr>\n",
       "      <th>price</th>\n",
       "      <td>10</td>\n",
       "      <td>8</td>\n",
       "      <td>12</td>\n",
       "    </tr>\n",
       "  </tbody>\n",
       "</table>\n",
       "</div>"
      ],
      "text/plain": [
       "       Almound butter  Peanut butter  Cashew butter\n",
       "price              10              8             12"
      ]
     },
     "execution_count": 266,
     "metadata": {},
     "output_type": "execute_result"
    }
   ],
   "source": [
    "# Create daily sales\n",
    "butter_prices"
   ]
  },
  {
   "cell_type": "code",
   "execution_count": 264,
   "id": "663c8562",
   "metadata": {},
   "outputs": [
    {
     "data": {
      "text/html": [
       "<div>\n",
       "<style scoped>\n",
       "    .dataframe tbody tr th:only-of-type {\n",
       "        vertical-align: middle;\n",
       "    }\n",
       "\n",
       "    .dataframe tbody tr th {\n",
       "        vertical-align: top;\n",
       "    }\n",
       "\n",
       "    .dataframe thead th {\n",
       "        text-align: right;\n",
       "    }\n",
       "</style>\n",
       "<table border=\"1\" class=\"dataframe\">\n",
       "  <thead>\n",
       "    <tr style=\"text-align: right;\">\n",
       "      <th></th>\n",
       "      <th>Almound butter</th>\n",
       "      <th>Peanut butter</th>\n",
       "      <th>Cashew butter</th>\n",
       "    </tr>\n",
       "  </thead>\n",
       "  <tbody>\n",
       "    <tr>\n",
       "      <th>Mon</th>\n",
       "      <td>12</td>\n",
       "      <td>15</td>\n",
       "      <td>0</td>\n",
       "    </tr>\n",
       "    <tr>\n",
       "      <th>Tues</th>\n",
       "      <td>3</td>\n",
       "      <td>3</td>\n",
       "      <td>7</td>\n",
       "    </tr>\n",
       "    <tr>\n",
       "      <th>Wed</th>\n",
       "      <td>9</td>\n",
       "      <td>19</td>\n",
       "      <td>18</td>\n",
       "    </tr>\n",
       "    <tr>\n",
       "      <th>Thurs</th>\n",
       "      <td>4</td>\n",
       "      <td>6</td>\n",
       "      <td>12</td>\n",
       "    </tr>\n",
       "    <tr>\n",
       "      <th>Fri</th>\n",
       "      <td>1</td>\n",
       "      <td>6</td>\n",
       "      <td>7</td>\n",
       "    </tr>\n",
       "  </tbody>\n",
       "</table>\n",
       "</div>"
      ],
      "text/plain": [
       "       Almound butter  Peanut butter  Cashew butter\n",
       "Mon                12             15              0\n",
       "Tues                3              3              7\n",
       "Wed                 9             19             18\n",
       "Thurs               4              6             12\n",
       "Fri                 1              6              7"
      ]
     },
     "execution_count": 264,
     "metadata": {},
     "output_type": "execute_result"
    }
   ],
   "source": [
    "weekly_sales"
   ]
  },
  {
   "cell_type": "code",
   "execution_count": 265,
   "id": "f506a5cd",
   "metadata": {},
   "outputs": [
    {
     "data": {
      "text/plain": [
       "((1, 3), (5, 3))"
      ]
     },
     "execution_count": 265,
     "metadata": {},
     "output_type": "execute_result"
    }
   ],
   "source": [
    "butter_prices.shape, weekly_sales.shape"
   ]
  },
  {
   "cell_type": "code",
   "execution_count": 270,
   "id": "15337d31",
   "metadata": {},
   "outputs": [
    {
     "data": {
      "text/html": [
       "<div>\n",
       "<style scoped>\n",
       "    .dataframe tbody tr th:only-of-type {\n",
       "        vertical-align: middle;\n",
       "    }\n",
       "\n",
       "    .dataframe tbody tr th {\n",
       "        vertical-align: top;\n",
       "    }\n",
       "\n",
       "    .dataframe thead th {\n",
       "        text-align: right;\n",
       "    }\n",
       "</style>\n",
       "<table border=\"1\" class=\"dataframe\">\n",
       "  <thead>\n",
       "    <tr style=\"text-align: right;\">\n",
       "      <th></th>\n",
       "      <th>Mon</th>\n",
       "      <th>Tues</th>\n",
       "      <th>Wed</th>\n",
       "      <th>Thurs</th>\n",
       "      <th>Fri</th>\n",
       "    </tr>\n",
       "  </thead>\n",
       "  <tbody>\n",
       "    <tr>\n",
       "      <th>price</th>\n",
       "      <td>240</td>\n",
       "      <td>138</td>\n",
       "      <td>458</td>\n",
       "      <td>232</td>\n",
       "      <td>142</td>\n",
       "    </tr>\n",
       "  </tbody>\n",
       "</table>\n",
       "</div>"
      ],
      "text/plain": [
       "       Mon  Tues  Wed  Thurs  Fri\n",
       "price  240   138  458    232  142"
      ]
     },
     "execution_count": 270,
     "metadata": {},
     "output_type": "execute_result"
    }
   ],
   "source": [
    "total_sales = butter_prices.dot(weekly_sales.T)\n",
    "total_sales"
   ]
  },
  {
   "cell_type": "code",
   "execution_count": 272,
   "id": "31e481a8",
   "metadata": {},
   "outputs": [],
   "source": [
    "weekly_sales[\"Total ($)\"] = total_sales.T"
   ]
  },
  {
   "cell_type": "code",
   "execution_count": 274,
   "id": "4b72373f",
   "metadata": {},
   "outputs": [
    {
     "data": {
      "text/plain": [
       "pandas.core.frame.DataFrame"
      ]
     },
     "execution_count": 274,
     "metadata": {},
     "output_type": "execute_result"
    }
   ],
   "source": [
    "type(total_sales)"
   ]
  },
  {
   "cell_type": "code",
   "execution_count": 273,
   "id": "b6489741",
   "metadata": {},
   "outputs": [
    {
     "data": {
      "text/html": [
       "<div>\n",
       "<style scoped>\n",
       "    .dataframe tbody tr th:only-of-type {\n",
       "        vertical-align: middle;\n",
       "    }\n",
       "\n",
       "    .dataframe tbody tr th {\n",
       "        vertical-align: top;\n",
       "    }\n",
       "\n",
       "    .dataframe thead th {\n",
       "        text-align: right;\n",
       "    }\n",
       "</style>\n",
       "<table border=\"1\" class=\"dataframe\">\n",
       "  <thead>\n",
       "    <tr style=\"text-align: right;\">\n",
       "      <th></th>\n",
       "      <th>Almound butter</th>\n",
       "      <th>Peanut butter</th>\n",
       "      <th>Cashew butter</th>\n",
       "      <th>Total ($)</th>\n",
       "    </tr>\n",
       "  </thead>\n",
       "  <tbody>\n",
       "    <tr>\n",
       "      <th>Mon</th>\n",
       "      <td>12</td>\n",
       "      <td>15</td>\n",
       "      <td>0</td>\n",
       "      <td>240</td>\n",
       "    </tr>\n",
       "    <tr>\n",
       "      <th>Tues</th>\n",
       "      <td>3</td>\n",
       "      <td>3</td>\n",
       "      <td>7</td>\n",
       "      <td>138</td>\n",
       "    </tr>\n",
       "    <tr>\n",
       "      <th>Wed</th>\n",
       "      <td>9</td>\n",
       "      <td>19</td>\n",
       "      <td>18</td>\n",
       "      <td>458</td>\n",
       "    </tr>\n",
       "    <tr>\n",
       "      <th>Thurs</th>\n",
       "      <td>4</td>\n",
       "      <td>6</td>\n",
       "      <td>12</td>\n",
       "      <td>232</td>\n",
       "    </tr>\n",
       "    <tr>\n",
       "      <th>Fri</th>\n",
       "      <td>1</td>\n",
       "      <td>6</td>\n",
       "      <td>7</td>\n",
       "      <td>142</td>\n",
       "    </tr>\n",
       "  </tbody>\n",
       "</table>\n",
       "</div>"
      ],
      "text/plain": [
       "       Almound butter  Peanut butter  Cashew butter  Total ($)\n",
       "Mon                12             15              0        240\n",
       "Tues                3              3              7        138\n",
       "Wed                 9             19             18        458\n",
       "Thurs               4              6             12        232\n",
       "Fri                 1              6              7        142"
      ]
     },
     "execution_count": 273,
     "metadata": {},
     "output_type": "execute_result"
    }
   ],
   "source": [
    "weekly_sales"
   ]
  },
  {
   "cell_type": "markdown",
   "id": "732bd424",
   "metadata": {},
   "source": [
    "### Comparison operators"
   ]
  },
  {
   "cell_type": "code",
   "execution_count": 275,
   "id": "c18c3ae4",
   "metadata": {},
   "outputs": [
    {
     "data": {
      "text/plain": [
       "array([1, 2, 3])"
      ]
     },
     "execution_count": 275,
     "metadata": {},
     "output_type": "execute_result"
    }
   ],
   "source": [
    "a1"
   ]
  },
  {
   "cell_type": "code",
   "execution_count": 276,
   "id": "3f8a02a1",
   "metadata": {},
   "outputs": [
    {
     "data": {
      "text/plain": [
       "array([[1. , 2. , 3. ],\n",
       "       [4.5, 5.2, 6.5]])"
      ]
     },
     "execution_count": 276,
     "metadata": {},
     "output_type": "execute_result"
    }
   ],
   "source": [
    "a2"
   ]
  },
  {
   "cell_type": "code",
   "execution_count": 279,
   "id": "32e467e3",
   "metadata": {},
   "outputs": [
    {
     "data": {
      "text/plain": [
       "array([[False, False, False],\n",
       "       [ True,  True,  True]])"
      ]
     },
     "execution_count": 279,
     "metadata": {},
     "output_type": "execute_result"
    }
   ],
   "source": [
    "a1 != a2"
   ]
  },
  {
   "cell_type": "code",
   "execution_count": 280,
   "id": "2167c17e",
   "metadata": {},
   "outputs": [
    {
     "data": {
      "text/plain": [
       "array([[ True,  True,  True],\n",
       "       [False, False, False]])"
      ]
     },
     "execution_count": 280,
     "metadata": {},
     "output_type": "execute_result"
    }
   ],
   "source": [
    "a1 == a2"
   ]
  },
  {
   "cell_type": "code",
   "execution_count": 281,
   "id": "eb2137b4",
   "metadata": {},
   "outputs": [
    {
     "data": {
      "text/plain": [
       "array([ True,  True,  True])"
      ]
     },
     "execution_count": 281,
     "metadata": {},
     "output_type": "execute_result"
    }
   ],
   "source": [
    "a1 < 6"
   ]
  },
  {
   "cell_type": "code",
   "execution_count": 282,
   "id": "46bd508a",
   "metadata": {},
   "outputs": [
    {
     "data": {
      "text/plain": [
       "array([False, False,  True])"
      ]
     },
     "execution_count": 282,
     "metadata": {},
     "output_type": "execute_result"
    }
   ],
   "source": [
    "a1 == 3"
   ]
  },
  {
   "cell_type": "code",
   "execution_count": 285,
   "id": "d427f480",
   "metadata": {},
   "outputs": [
    {
     "data": {
      "text/plain": [
       "array([ True,  True,  True])"
      ]
     },
     "execution_count": 285,
     "metadata": {},
     "output_type": "execute_result"
    }
   ],
   "source": [
    "a1 != 5"
   ]
  },
  {
   "cell_type": "markdown",
   "id": "7d05e219",
   "metadata": {},
   "source": [
    "## 5.Sorting arrays"
   ]
  },
  {
   "cell_type": "code",
   "execution_count": 286,
   "id": "8d953242",
   "metadata": {},
   "outputs": [
    {
     "data": {
      "text/plain": [
       "array([[6, 6, 2, 2, 6],\n",
       "       [5, 2, 6, 4, 7],\n",
       "       [5, 7, 6, 2, 8]])"
      ]
     },
     "execution_count": 286,
     "metadata": {},
     "output_type": "execute_result"
    }
   ],
   "source": [
    "random_array"
   ]
  },
  {
   "cell_type": "code",
   "execution_count": 287,
   "id": "78d122cb",
   "metadata": {},
   "outputs": [
    {
     "data": {
      "text/plain": [
       "(3, 5)"
      ]
     },
     "execution_count": 287,
     "metadata": {},
     "output_type": "execute_result"
    }
   ],
   "source": [
    "random_array.shape"
   ]
  },
  {
   "cell_type": "code",
   "execution_count": 288,
   "id": "d4671543",
   "metadata": {},
   "outputs": [
    {
     "data": {
      "text/plain": [
       "array([[2, 2, 6, 6, 6],\n",
       "       [2, 4, 5, 6, 7],\n",
       "       [2, 5, 6, 7, 8]])"
      ]
     },
     "execution_count": 288,
     "metadata": {},
     "output_type": "execute_result"
    }
   ],
   "source": [
    "np.sort(random_array)"
   ]
  },
  {
   "cell_type": "code",
   "execution_count": 290,
   "id": "deb94593",
   "metadata": {},
   "outputs": [
    {
     "data": {
      "text/plain": [
       "array([[2, 3, 0, 1, 4],\n",
       "       [1, 3, 0, 2, 4],\n",
       "       [3, 0, 2, 1, 4]], dtype=int64)"
      ]
     },
     "execution_count": 290,
     "metadata": {},
     "output_type": "execute_result"
    }
   ],
   "source": [
    "# shows an index of each number at position\n",
    "# of this number in order of growing\n",
    "np.argsort(random_array)"
   ]
  },
  {
   "cell_type": "code",
   "execution_count": 291,
   "id": "1d52d759",
   "metadata": {},
   "outputs": [
    {
     "data": {
      "text/plain": [
       "array([1, 2, 3])"
      ]
     },
     "execution_count": 291,
     "metadata": {},
     "output_type": "execute_result"
    }
   ],
   "source": [
    "a1"
   ]
  },
  {
   "cell_type": "code",
   "execution_count": 293,
   "id": "4e98adad",
   "metadata": {},
   "outputs": [
    {
     "data": {
      "text/plain": [
       "array([0, 1, 2], dtype=int64)"
      ]
     },
     "execution_count": 293,
     "metadata": {},
     "output_type": "execute_result"
    }
   ],
   "source": [
    "np.argsort(a1)"
   ]
  },
  {
   "cell_type": "code",
   "execution_count": 294,
   "id": "e9a71022",
   "metadata": {},
   "outputs": [
    {
     "data": {
      "text/plain": [
       "0"
      ]
     },
     "execution_count": 294,
     "metadata": {},
     "output_type": "execute_result"
    }
   ],
   "source": [
    "np.argmin(a1)"
   ]
  },
  {
   "cell_type": "code",
   "execution_count": 295,
   "id": "24388a58",
   "metadata": {},
   "outputs": [
    {
     "data": {
      "text/plain": [
       "2"
      ]
     },
     "execution_count": 295,
     "metadata": {},
     "output_type": "execute_result"
    }
   ],
   "source": [
    "np.argmax(a1)"
   ]
  },
  {
   "cell_type": "code",
   "execution_count": 297,
   "id": "7d8f6ff1",
   "metadata": {},
   "outputs": [
    {
     "data": {
      "text/plain": [
       "array([[6, 6, 2, 2, 6],\n",
       "       [5, 2, 6, 4, 7],\n",
       "       [5, 7, 6, 2, 8]])"
      ]
     },
     "execution_count": 297,
     "metadata": {},
     "output_type": "execute_result"
    }
   ],
   "source": [
    "random_array"
   ]
  },
  {
   "cell_type": "code",
   "execution_count": 298,
   "id": "daeda740",
   "metadata": {},
   "outputs": [
    {
     "data": {
      "text/plain": [
       "14"
      ]
     },
     "execution_count": 298,
     "metadata": {},
     "output_type": "execute_result"
    }
   ],
   "source": [
    "np.argmax(random_array)"
   ]
  },
  {
   "cell_type": "code",
   "execution_count": 306,
   "id": "0a2246d1",
   "metadata": {},
   "outputs": [
    {
     "data": {
      "text/plain": [
       "array([0, 4, 4], dtype=int64)"
      ]
     },
     "execution_count": 306,
     "metadata": {},
     "output_type": "execute_result"
    }
   ],
   "source": [
    "np.argmax(random_array, axis=1)"
   ]
  },
  {
   "cell_type": "code",
   "execution_count": 307,
   "id": "a602fdc7",
   "metadata": {},
   "outputs": [
    {
     "data": {
      "text/plain": [
       "array([[0.6527425 , 0.91944732, 0.42056391],\n",
       "       [0.94079901, 0.98509282, 0.30773508],\n",
       "       [0.79110307, 0.30305013, 0.90217559],\n",
       "       [0.91226804, 0.52600596, 0.62571042],\n",
       "       [0.21741865, 0.486079  , 0.33389291]])"
      ]
     },
     "execution_count": 307,
     "metadata": {},
     "output_type": "execute_result"
    }
   ],
   "source": [
    "random_array_2"
   ]
  },
  {
   "cell_type": "code",
   "execution_count": 309,
   "id": "f0eed8fd",
   "metadata": {},
   "outputs": [
    {
     "data": {
      "text/plain": [
       "array([2, 2, 1, 1, 0], dtype=int64)"
      ]
     },
     "execution_count": 309,
     "metadata": {},
     "output_type": "execute_result"
    }
   ],
   "source": [
    "np.argmin(random_array_2, axis=1)"
   ]
  },
  {
   "cell_type": "code",
   "execution_count": 310,
   "id": "aca1368c",
   "metadata": {},
   "outputs": [
    {
     "data": {
      "text/plain": [
       "array([[0.42056391, 0.6527425 , 0.91944732],\n",
       "       [0.30773508, 0.94079901, 0.98509282],\n",
       "       [0.30305013, 0.79110307, 0.90217559],\n",
       "       [0.52600596, 0.62571042, 0.91226804],\n",
       "       [0.21741865, 0.33389291, 0.486079  ]])"
      ]
     },
     "execution_count": 310,
     "metadata": {},
     "output_type": "execute_result"
    }
   ],
   "source": [
    "np.sort(random_array_2)"
   ]
  },
  {
   "cell_type": "markdown",
   "id": "8f385976",
   "metadata": {},
   "source": [
    "## 6.Practical example - NumPy in action"
   ]
  },
  {
   "cell_type": "markdown",
   "id": "f1c80f7c",
   "metadata": {},
   "source": [
    "<img src=\"../images/panda.png\">"
   ]
  },
  {
   "cell_type": "code",
   "execution_count": 314,
   "id": "927cb72c",
   "metadata": {},
   "outputs": [
    {
     "data": {
      "text/plain": [
       "numpy.ndarray"
      ]
     },
     "execution_count": 314,
     "metadata": {},
     "output_type": "execute_result"
    }
   ],
   "source": [
    "# turn img to NumPy array\n",
    "from matplotlib.image import imread\n",
    "\n",
    "panda = imread(\"../images/panda.png\")\n",
    "type(panda)"
   ]
  },
  {
   "cell_type": "code",
   "execution_count": 325,
   "id": "f246982f",
   "metadata": {},
   "outputs": [
    {
     "data": {
      "text/plain": [
       "((2330, 3500, 3), 24465000, dtype('float32'), 3)"
      ]
     },
     "execution_count": 325,
     "metadata": {},
     "output_type": "execute_result"
    }
   ],
   "source": [
    "panda.shape, panda.size, panda.dtype, panda.ndim"
   ]
  },
  {
   "cell_type": "code",
   "execution_count": 327,
   "id": "45c23067",
   "metadata": {},
   "outputs": [
    {
     "data": {
      "text/plain": [
       "array([[[0.05490196, 0.10588235, 0.06666667],\n",
       "        [0.05490196, 0.10588235, 0.06666667],\n",
       "        [0.05490196, 0.10588235, 0.06666667],\n",
       "        ...,\n",
       "        [0.16470589, 0.12941177, 0.09411765],\n",
       "        [0.16470589, 0.12941177, 0.09411765],\n",
       "        [0.16470589, 0.12941177, 0.09411765]],\n",
       "\n",
       "       [[0.05490196, 0.10588235, 0.06666667],\n",
       "        [0.05490196, 0.10588235, 0.06666667],\n",
       "        [0.05490196, 0.10588235, 0.06666667],\n",
       "        ...,\n",
       "        [0.16470589, 0.12941177, 0.09411765],\n",
       "        [0.16470589, 0.12941177, 0.09411765],\n",
       "        [0.16470589, 0.12941177, 0.09411765]],\n",
       "\n",
       "       [[0.05490196, 0.10588235, 0.06666667],\n",
       "        [0.05490196, 0.10588235, 0.06666667],\n",
       "        [0.05490196, 0.10588235, 0.06666667],\n",
       "        ...,\n",
       "        [0.16470589, 0.12941177, 0.09411765],\n",
       "        [0.16470589, 0.12941177, 0.09411765],\n",
       "        [0.16470589, 0.12941177, 0.09411765]],\n",
       "\n",
       "       [[0.05490196, 0.10588235, 0.06666667],\n",
       "        [0.05490196, 0.10588235, 0.06666667],\n",
       "        [0.05490196, 0.10588235, 0.06666667],\n",
       "        ...,\n",
       "        [0.16862746, 0.13333334, 0.09803922],\n",
       "        [0.16862746, 0.13333334, 0.09803922],\n",
       "        [0.16862746, 0.13333334, 0.09803922]],\n",
       "\n",
       "       [[0.05490196, 0.10588235, 0.06666667],\n",
       "        [0.05490196, 0.10588235, 0.06666667],\n",
       "        [0.05490196, 0.10588235, 0.06666667],\n",
       "        ...,\n",
       "        [0.16862746, 0.13333334, 0.09803922],\n",
       "        [0.16862746, 0.13333334, 0.09803922],\n",
       "        [0.16862746, 0.13333334, 0.09803922]]], dtype=float32)"
      ]
     },
     "execution_count": 327,
     "metadata": {},
     "output_type": "execute_result"
    }
   ],
   "source": [
    "panda[: 5]"
   ]
  },
  {
   "cell_type": "markdown",
   "id": "30e46f6d",
   "metadata": {},
   "source": [
    "<img src=\"../images/car-photo.png\">"
   ]
  },
  {
   "cell_type": "code",
   "execution_count": 329,
   "id": "f8ea8529",
   "metadata": {},
   "outputs": [],
   "source": [
    "car = imread(\"../images/car-photo.png\")"
   ]
  },
  {
   "cell_type": "code",
   "execution_count": 330,
   "id": "379bcda7",
   "metadata": {},
   "outputs": [
    {
     "data": {
      "text/plain": [
       "numpy.ndarray"
      ]
     },
     "execution_count": 330,
     "metadata": {},
     "output_type": "execute_result"
    }
   ],
   "source": [
    "type(car)"
   ]
  },
  {
   "cell_type": "code",
   "execution_count": 331,
   "id": "1b096f4d",
   "metadata": {},
   "outputs": [],
   "source": [
    "dog = imread(\"../images/dog-photo.png\")"
   ]
  },
  {
   "cell_type": "code",
   "execution_count": 333,
   "id": "f9b303da",
   "metadata": {},
   "outputs": [
    {
     "data": {
      "text/plain": [
       "numpy.ndarray"
      ]
     },
     "execution_count": 333,
     "metadata": {},
     "output_type": "execute_result"
    }
   ],
   "source": [
    "type(dog)"
   ]
  },
  {
   "cell_type": "code",
   "execution_count": null,
   "id": "e4d65889",
   "metadata": {},
   "outputs": [],
   "source": []
  }
 ],
 "metadata": {
  "kernelspec": {
   "display_name": "Python 3 (ipykernel)",
   "language": "python",
   "name": "python3"
  },
  "language_info": {
   "codemirror_mode": {
    "name": "ipython",
    "version": 3
   },
   "file_extension": ".py",
   "mimetype": "text/x-python",
   "name": "python",
   "nbconvert_exporter": "python",
   "pygments_lexer": "ipython3",
   "version": "3.11.3"
  }
 },
 "nbformat": 4,
 "nbformat_minor": 5
}
