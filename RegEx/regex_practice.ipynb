{
 "cells": [
  {
   "cell_type": "code",
   "execution_count": 1,
   "id": "bd652cc5",
   "metadata": {},
   "outputs": [],
   "source": [
    "import re"
   ]
  },
  {
   "cell_type": "code",
   "execution_count": 2,
   "id": "aca33e1f",
   "metadata": {},
   "outputs": [],
   "source": [
    "string= \"hello, my name is mykyta. mykyta is a name in fact\""
   ]
  },
  {
   "cell_type": "code",
   "execution_count": 4,
   "id": "60db5373",
   "metadata": {},
   "outputs": [
    {
     "data": {
      "text/plain": [
       "<re.Match object; span=(18, 24), match='mykyta'>"
      ]
     },
     "execution_count": 4,
     "metadata": {},
     "output_type": "execute_result"
    }
   ],
   "source": [
    "re.search(\"mykyta\", string)"
   ]
  },
  {
   "cell_type": "code",
   "execution_count": 5,
   "id": "132238b9",
   "metadata": {},
   "outputs": [
    {
     "data": {
      "text/plain": [
       "['mykyta', 'mykyta']"
      ]
     },
     "execution_count": 5,
     "metadata": {},
     "output_type": "execute_result"
    }
   ],
   "source": [
    "re.findall(\"mykyta\", string)"
   ]
  },
  {
   "cell_type": "code",
   "execution_count": null,
   "id": "599558bb",
   "metadata": {},
   "outputs": [],
   "source": []
  }
 ],
 "metadata": {
  "kernelspec": {
   "display_name": "Python 3 (ipykernel)",
   "language": "python",
   "name": "python3"
  },
  "language_info": {
   "codemirror_mode": {
    "name": "ipython",
    "version": 3
   },
   "file_extension": ".py",
   "mimetype": "text/x-python",
   "name": "python",
   "nbconvert_exporter": "python",
   "pygments_lexer": "ipython3",
   "version": "3.11.3"
  }
 },
 "nbformat": 4,
 "nbformat_minor": 5
}
